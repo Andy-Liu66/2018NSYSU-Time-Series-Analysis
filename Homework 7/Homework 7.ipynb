{
 "cells": [
  {
   "cell_type": "markdown",
   "metadata": {},
   "source": [
    "## 時間數列分析 Homework 7, B036060012 政經大四 劉百耀\n",
    "作業網址:\n",
    "\n",
    "#### Please specify a bivariate VAR(4) model for Taiwan’s GDP and Stock Index from this model to test the Granger-causality between these two variables."
   ]
  },
  {
   "cell_type": "code",
   "execution_count": 1,
   "metadata": {},
   "outputs": [
    {
     "name": "stderr",
     "output_type": "stream",
     "text": [
      "C:\\Users\\andy5\\Anaconda3\\lib\\site-packages\\statsmodels\\compat\\pandas.py:56: FutureWarning: The pandas.core.datetools module is deprecated and will be removed in a future version. Please use the pandas.tseries module instead.\n",
      "  from pandas.core import datetools\n"
     ]
    },
    {
     "data": {
      "text/html": [
       "<div>\n",
       "<style scoped>\n",
       "    .dataframe tbody tr th:only-of-type {\n",
       "        vertical-align: middle;\n",
       "    }\n",
       "\n",
       "    .dataframe tbody tr th {\n",
       "        vertical-align: top;\n",
       "    }\n",
       "\n",
       "    .dataframe thead th {\n",
       "        text-align: right;\n",
       "    }\n",
       "</style>\n",
       "<table border=\"1\" class=\"dataframe\">\n",
       "  <thead>\n",
       "    <tr style=\"text-align: right;\">\n",
       "      <th></th>\n",
       "      <th>GDP</th>\n",
       "      <th>Stock index</th>\n",
       "    </tr>\n",
       "    <tr>\n",
       "      <th>time</th>\n",
       "      <th></th>\n",
       "      <th></th>\n",
       "    </tr>\n",
       "  </thead>\n",
       "  <tbody>\n",
       "    <tr>\n",
       "      <th>1999-04-01</th>\n",
       "      <td>7.16</td>\n",
       "      <td>1585.65</td>\n",
       "    </tr>\n",
       "    <tr>\n",
       "      <th>1999-07-01</th>\n",
       "      <td>10.74</td>\n",
       "      <td>-868.58</td>\n",
       "    </tr>\n",
       "    <tr>\n",
       "      <th>1999-10-01</th>\n",
       "      <td>6.52</td>\n",
       "      <td>850.05</td>\n",
       "    </tr>\n",
       "    <tr>\n",
       "      <th>2000-01-01</th>\n",
       "      <td>9.18</td>\n",
       "      <td>1406.11</td>\n",
       "    </tr>\n",
       "    <tr>\n",
       "      <th>2000-04-01</th>\n",
       "      <td>10.33</td>\n",
       "      <td>-1589.86</td>\n",
       "    </tr>\n",
       "  </tbody>\n",
       "</table>\n",
       "</div>"
      ],
      "text/plain": [
       "              GDP  Stock index\n",
       "time                          \n",
       "1999-04-01   7.16      1585.65\n",
       "1999-07-01  10.74      -868.58\n",
       "1999-10-01   6.52       850.05\n",
       "2000-01-01   9.18      1406.11\n",
       "2000-04-01  10.33     -1589.86"
      ]
     },
     "execution_count": 1,
     "metadata": {},
     "output_type": "execute_result"
    }
   ],
   "source": [
    "# import packages\n",
    "import pandas as pd\n",
    "import numpy as np\n",
    "import statsmodels.api as sm\n",
    "import matplotlib.pyplot as plt\n",
    "%matplotlib inline\n",
    "\n",
    "# read in data\n",
    "data = pd.read_excel(\"Data.xlsx\")\n",
    "\n",
    "# transform \"time\" column to datatime object\n",
    "data.time = pd.to_datetime(data.time)\n",
    "\n",
    "# reset data's index\n",
    "data.set_index(\"time\", inplace = True)\n",
    "\n",
    "data.head()"
   ]
  },
  {
   "cell_type": "code",
   "execution_count": 11,
   "metadata": {
    "collapsed": true
   },
   "outputs": [],
   "source": [
    "# chose VAR model\n",
    "VAR_4 = sm.tsa.VAR(data)\n",
    "\n",
    "#fit data\n",
    "VAR_4_result = VAR_4.fit(4)"
   ]
  },
  {
   "cell_type": "code",
   "execution_count": 12,
   "metadata": {
    "scrolled": true
   },
   "outputs": [
    {
     "name": "stdout",
     "output_type": "stream",
     "text": [
      "Granger causality f-test\n",
      "=============================================================\n",
      "   Test statistic   Critical Value          p-value        df\n",
      "-------------------------------------------------------------\n",
      "        19.069179         2.444766            0.000  (4, 124)\n",
      "=============================================================\n",
      "H_0: ['Stock index'] do not Granger-cause GDP\n",
      "Conclusion: reject H_0 at 5.00% significance level\n"
     ]
    },
    {
     "data": {
      "text/plain": [
       "{'conclusion': 'reject',\n",
       " 'crit_value': 2.4447661609664681,\n",
       " 'df': (4, 124),\n",
       " 'pvalue': 3.0354448742322704e-12,\n",
       " 'signif': 0.05,\n",
       " 'statistic': 19.069179060246341}"
      ]
     },
     "execution_count": 12,
     "metadata": {},
     "output_type": "execute_result"
    }
   ],
   "source": [
    "# test causality Stock index → GDP\n",
    "VAR_4_result.test_causality(\"GDP\", \"Stock index\")"
   ]
  },
  {
   "cell_type": "markdown",
   "metadata": {},
   "source": [
    "From the result above, we conclude that Stock index does Granger-cause GDP."
   ]
  },
  {
   "cell_type": "code",
   "execution_count": 13,
   "metadata": {},
   "outputs": [
    {
     "name": "stdout",
     "output_type": "stream",
     "text": [
      "Granger causality f-test\n",
      "=============================================================\n",
      "   Test statistic   Critical Value          p-value        df\n",
      "-------------------------------------------------------------\n",
      "         1.057857         2.444766            0.380  (4, 124)\n",
      "=============================================================\n",
      "H_0: ['GDP'] do not Granger-cause Stock index\n",
      "Conclusion: fail to reject H_0 at 5.00% significance level\n"
     ]
    },
    {
     "data": {
      "text/plain": [
       "{'conclusion': 'fail to reject',\n",
       " 'crit_value': 2.4447661609664681,\n",
       " 'df': (4, 124),\n",
       " 'pvalue': 0.3803665812388507,\n",
       " 'signif': 0.05,\n",
       " 'statistic': 1.0578568834383322}"
      ]
     },
     "execution_count": 13,
     "metadata": {},
     "output_type": "execute_result"
    }
   ],
   "source": [
    "# test causality GDP → Stock index\n",
    "VAR_4_result.test_causality(\"Stock index\", \"GDP\")"
   ]
  },
  {
   "cell_type": "markdown",
   "metadata": {},
   "source": [
    "From the result above, we conclude that GDP fail to Granger-cause Stock index."
   ]
  }
 ],
 "metadata": {
  "kernelspec": {
   "display_name": "Python 3",
   "language": "python",
   "name": "python3"
  },
  "language_info": {
   "codemirror_mode": {
    "name": "ipython",
    "version": 3
   },
   "file_extension": ".py",
   "mimetype": "text/x-python",
   "name": "python",
   "nbconvert_exporter": "python",
   "pygments_lexer": "ipython3",
   "version": "3.6.3"
  }
 },
 "nbformat": 4,
 "nbformat_minor": 2
}
