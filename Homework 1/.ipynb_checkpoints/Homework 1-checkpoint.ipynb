{
 "cells": [
  {
   "cell_type": "markdown",
   "metadata": {},
   "source": [
    "## 時間數列分析 Homework 1, B036060012 政經大四 劉百耀"
   ]
  },
  {
   "cell_type": "markdown",
   "metadata": {},
   "source": [
    "## Given the difference equation:\n",
    "$ y_{t}=1.2y_{t-1}-0.47y_{t-2}+0.6y_{t-3}+W_{t} $"
   ]
  },
  {
   "cell_type": "markdown",
   "metadata": {},
   "source": [
    "## Qusetion 1:\n",
    "## Is the system stable or unstable?"
   ]
  },
  {
   "cell_type": "code",
   "execution_count": 1,
   "metadata": {
    "collapsed": true
   },
   "outputs": [],
   "source": [
    "# import packages\n",
    "import numpy as np\n",
    "from sympy import solve, Symbol\n",
    "import matplotlib.pyplot as plt\n",
    "%matplotlib inline"
   ]
  },
  {
   "cell_type": "markdown",
   "metadata": {},
   "source": [
    "#### Find the roots of the equation:\n",
    "$\\lambda ^{p}-\\phi \\lambda ^{p-1}-\\phi _{2}\\lambda ^{p-2}-\\ldots \\phi _{p-1}\\lambda -\\phi _{p}=0$  \n",
    "\n",
    "[1-1] "
   ]
  },
  {
   "cell_type": "code",
   "execution_count": 2,
   "metadata": {},
   "outputs": [
    {
     "data": {
      "text/plain": [
       "[1.21841861900692,\n",
       " -0.00920930950345859 - 0.701681392765187*I,\n",
       " -0.00920930950345859 + 0.701681392765187*I]"
      ]
     },
     "execution_count": 2,
     "metadata": {},
     "output_type": "execute_result"
    }
   ],
   "source": [
    "# finding roots\n",
    "x = Symbol(\"x\")\n",
    "roots = solve(x**3 -1.2*(x**2) + 0.47*x - 0.6)\n",
    "roots"
   ]
  },
  {
   "cell_type": "markdown",
   "metadata": {},
   "source": [
    "#### From the result above, we can find that this difference eauation is explosive.\n",
    "#### (I didn't use the lag operator here, so the absolute values of roots in  equation [1-1] should all be smaller than 1, then the system will be stable)"
   ]
  },
  {
   "cell_type": "markdown",
   "metadata": {},
   "source": [
    "## Qusetion 2:\n",
    "## Plot the dynamic multiplier of the difference equation (to j=20):"
   ]
  },
  {
   "cell_type": "code",
   "execution_count": 3,
   "metadata": {
    "collapsed": true
   },
   "outputs": [],
   "source": [
    "# change the type of roots to complex type\n",
    "for i in range(len(roots)):\n",
    "    roots[i] = complex(roots[i])"
   ]
  },
  {
   "cell_type": "markdown",
   "metadata": {},
   "source": [
    "#### According to:\n",
    "$c_{i}=\\dfrac {\\lambda^ {p-1}_{i}}{\\prod^{p=1} _{k=1\\\\, k\\neq i}\\left( \\lambda _{i}-\\lambda _{k}\\right) }$\n",
    "\n",
    "[2-1]"
   ]
  },
  {
   "cell_type": "code",
   "execution_count": 4,
   "metadata": {
    "collapsed": true
   },
   "outputs": [],
   "source": [
    "# finding ci\n",
    "c1 = roots[0]**2 / ((roots[0] - roots[1]) * (roots[0] - roots[2]))\n",
    "c2 = roots[1]**2 / ((roots[1] - roots[0]) * (roots[1] - roots[2]))\n",
    "c3 = roots[2]**2 / ((roots[2] - roots[0]) * (roots[2] - roots[1]))"
   ]
  },
  {
   "cell_type": "markdown",
   "metadata": {},
   "source": [
    "#### Dynamic multiplier:\n",
    "$\\dfrac {\\partial y_{t+j}}{\\partial W_{t}}=\\left[ c_{1}\\lambda ^{j}_{1}+c_{2}\\lambda ^{j}_{2}+\\ldots +c_{p}\\lambda ^{j}_{p}\\right]$\n",
    "\n",
    "[2-2]"
   ]
  },
  {
   "cell_type": "code",
   "execution_count": 5,
   "metadata": {},
   "outputs": [
    {
     "data": {
      "image/png": "[encoded data removed]",
      "text/plain": [
       "<matplotlib.figure.Figure at 0x1fa3e852588>"
      ]
     },
     "metadata": {},
     "output_type": "display_data"
    }
   ],
   "source": [
    "# create an empty array\n",
    "dynamic_operator = np.zeros(21)\n",
    "\n",
    "# according to equation[2-2], compute dynamic multiplier for each j (from 0 to 20)\n",
    "for i in range(21):\n",
    "    dynamic_operator[i] = (c1*(roots[0]**i) + c2*(roots[1]**i) + c3*(roots[2]**i)).real\n",
    "\n",
    "# plot dynamic multiplier\n",
    "plt.figure(figsize = (10, 6))\n",
    "plt.bar(range(21), dynamic_operator)\n",
    "plt.xlabel(\"j\", fontsize = 18)\n",
    "plt.ylabel(r\"$\\dfrac{\\partial y_{t+j}}{\\partial W_{t}}$\", fontsize = 18)\n",
    "plt.title(\"Dynamic multiplier\", fontsize = 20);"
   ]
  },
  {
   "cell_type": "markdown",
   "metadata": {},
   "source": [
    "## Qusetion 3:\n",
    "## Find the first ten parameter of  $y_t$:\n",
    "$y_t = [c_1+c_2+...+c_p]w_t + [c_1\\lambda_{1}+c_2\\lambda_{_2}+...+c_p\\lambda_{p}]w_{t-1}+[c_1\\lambda ^{2}_{1}+c_2\\lambda ^{2}_{2}+...+c_p\\lambda ^{2}_{p}]w_{t-2} + ...$\n",
    "\n",
    "[3-1]"
   ]
  },
  {
   "cell_type": "code",
   "execution_count": 6,
   "metadata": {},
   "outputs": [
    {
     "data": {
      "text/plain": [
       "array([ 1.        ,  1.2       ,  0.97      ,  1.2       ,  1.7041    ,\n",
       "        2.06292   ,  2.394577  ,  2.92638   ,  3.62395681,  4.41009577,\n",
       "        5.34468323])"
      ]
     },
     "execution_count": 6,
     "metadata": {},
     "output_type": "execute_result"
    }
   ],
   "source": [
    "# create an empty array\n",
    "parameters = np.zeros(11)\n",
    "\n",
    "# compute the first ten parameter\n",
    "for i in range(11):\n",
    "    parameters[i] = (c1*(roots[0]**i) + c2*(roots[1]**i) + c3*(roots[2]**i)).real\n",
    "    \n",
    "parameters"
   ]
  }
 ],
 "metadata": {
  "kernelspec": {
   "display_name": "Python 3",
   "language": "python",
   "name": "python3"
  },
  "language_info": {
   "codemirror_mode": {
    "name": "ipython",
    "version": 3
   },
   "file_extension": ".py",
   "mimetype": "text/x-python",
   "name": "python",
   "nbconvert_exporter": "python",
   "pygments_lexer": "ipython3",
   "version": "3.6.3"
  }
 },
 "nbformat": 4,
 "nbformat_minor": 2
}
