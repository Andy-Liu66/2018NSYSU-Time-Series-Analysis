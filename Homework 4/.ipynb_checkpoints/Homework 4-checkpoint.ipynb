{
 "cells": [
  {
   "cell_type": "markdown",
   "metadata": {},
   "source": [
    "#### Suppose that the U.S. quarterly seasonally adjusted unemployment rate for the period 1948 − 1972 behaves much like the time series: $$Y_{t} - 4.77 = 1.54(Y_{t-1} - 4.77) - 0.67(Y_{t-2} - 4.77) + \\varepsilon_{t},$$where the $\\varepsilon_{t}$ are uncorrelated random (0, 1) variables. Let us assume that we know that this is the proper representation. The four observations updated to 1972 are $Y_{1972}$ = 5.30, $Y_{1971}$ = 5.53, $Y_{1970}$ = 5.77, and $Y_{1969}$ = 5.83. Please make a best linear forecast of $Y_{1972+s}$, s = 1, 2, 3, 4 based on the information available."
   ]
  },
  {
   "cell_type": "code",
   "execution_count": 1,
   "metadata": {
    "collapsed": true
   },
   "outputs": [],
   "source": [
    "# import packages\n",
    "import numpy as np\n",
    "import pandas as pd\n",
    "\n",
    "# define parameters\n",
    "mean = 0       #to create random variable\n",
    "std = 1        #to create random variable\n",
    "\n",
    "Y_1972 = 5.3   #given variable\n",
    "Y_1971 = 5.53  #given variable"
   ]
  },
  {
   "cell_type": "code",
   "execution_count": 2,
   "metadata": {
    "collapsed": true
   },
   "outputs": [],
   "source": [
    "def Calculate_Yt(years_to_calculate):     #fill in how many years(s) want to calculate, start from 1972\n",
    "    \n",
    "    temp = np.zeros(years_to_calculate)\n",
    "    for i in range(years_to_calculate):\n",
    "        if i == 0:                        #Y_1973 (s = 1)\n",
    "            temp[i] = 1.54 * (Y_1972 - 4.77) - 0.67 * (Y_1971 - 4.77) + 4.77 + np.random.normal(mean, std, 1)\n",
    "        elif i == 1:                      #Y_1974 (s = 2)\n",
    "            temp[i] = 1.54 * (temp[i - 1] - 4.77) - 0.67 * (Y_1972 - 4.77) + 4.77 + np.random.normal(mean, std, 1)\n",
    "        else:                             #Y_1975~ (s >= 3)\n",
    "            temp[i] = 1.54 * (temp[i - 1] - 4.77) - 0.67 * (temp[i - 2] -4.77) + 4.77 + np.random.normal(mean, std, 1)\n",
    "    \n",
    "    result = pd.concat([pd.DataFrame(1972 + np.arange(1, years_to_calculate + 1)), pd.DataFrame(temp)], axis = 1)\n",
    "    result.columns = [\"Year\", \"Unemployment rate\"]\n",
    "    \n",
    "    return(result)"
   ]
  },
  {
   "cell_type": "markdown",
   "metadata": {},
   "source": [
    "#### Unemployment rate of year 1973, 1974, 1975, 1976:"
   ]
  },
  {
   "cell_type": "code",
   "execution_count": 3,
   "metadata": {},
   "outputs": [
    {
     "data": {
      "text/html": [
       "<div>\n",
       "<style>\n",
       "    .dataframe thead tr:only-child th {\n",
       "        text-align: right;\n",
       "    }\n",
       "\n",
       "    .dataframe thead th {\n",
       "        text-align: left;\n",
       "    }\n",
       "\n",
       "    .dataframe tbody tr th {\n",
       "        vertical-align: top;\n",
       "    }\n",
       "</style>\n",
       "<table border=\"1\" class=\"dataframe\">\n",
       "  <thead>\n",
       "    <tr style=\"text-align: right;\">\n",
       "      <th></th>\n",
       "      <th>Year</th>\n",
       "      <th>Unemployment rate</th>\n",
       "    </tr>\n",
       "  </thead>\n",
       "  <tbody>\n",
       "    <tr>\n",
       "      <th>0</th>\n",
       "      <td>1973</td>\n",
       "      <td>5.447928</td>\n",
       "    </tr>\n",
       "    <tr>\n",
       "      <th>1</th>\n",
       "      <td>1974</td>\n",
       "      <td>5.019791</td>\n",
       "    </tr>\n",
       "    <tr>\n",
       "      <th>2</th>\n",
       "      <td>1975</td>\n",
       "      <td>4.887274</td>\n",
       "    </tr>\n",
       "    <tr>\n",
       "      <th>3</th>\n",
       "      <td>1976</td>\n",
       "      <td>5.289783</td>\n",
       "    </tr>\n",
       "  </tbody>\n",
       "</table>\n",
       "</div>"
      ],
      "text/plain": [
       "   Year  Unemployment rate\n",
       "0  1973           5.447928\n",
       "1  1974           5.019791\n",
       "2  1975           4.887274\n",
       "3  1976           5.289783"
      ]
     },
     "execution_count": 3,
     "metadata": {},
     "output_type": "execute_result"
    }
   ],
   "source": [
    "Calculate_Yt(4)"
   ]
  }
 ],
 "metadata": {
  "kernelspec": {
   "display_name": "Python 3",
   "language": "python",
   "name": "python3"
  },
  "language_info": {
   "codemirror_mode": {
    "name": "ipython",
    "version": 3
   },
   "file_extension": ".py",
   "mimetype": "text/x-python",
   "name": "python",
   "nbconvert_exporter": "python",
   "pygments_lexer": "ipython3",
   "version": "3.6.3"
  }
 },
 "nbformat": 4,
 "nbformat_minor": 2
}
